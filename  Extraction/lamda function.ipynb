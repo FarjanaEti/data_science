{
 "cells": [
  {
   "cell_type": "code",
   "execution_count": 1,
   "id": "0f3ca700-5f30-4b2d-8065-09b8ba12d7f7",
   "metadata": {},
   "outputs": [],
   "source": [
    "import pandas as pd"
   ]
  },
  {
   "cell_type": "code",
   "execution_count": 2,
   "id": "900b090e-ad71-4f7b-ac78-f9f3db35ffb2",
   "metadata": {},
   "outputs": [],
   "source": [
    "# reads csv file\n",
    "df = pd.read_csv('players_20.csv')\n",
    "# set index\n",
    "df.set_index('short_name', inplace=True)\n",
    "# select column\n",
    "df = df[['long_name', 'age', 'dob', 'height_cm', 'weight_kg', 'nationality', 'club']]"
   ]
  },
  {
   "cell_type": "code",
   "execution_count": 3,
   "id": "edce9bdb-b2d2-4094-8d57-7f203b8c3b3d",
   "metadata": {},
   "outputs": [
    {
     "data": {
      "text/html": [
       "<div>\n",
       "<style scoped>\n",
       "    .dataframe tbody tr th:only-of-type {\n",
       "        vertical-align: middle;\n",
       "    }\n",
       "\n",
       "    .dataframe tbody tr th {\n",
       "        vertical-align: top;\n",
       "    }\n",
       "\n",
       "    .dataframe thead th {\n",
       "        text-align: right;\n",
       "    }\n",
       "</style>\n",
       "<table border=\"1\" class=\"dataframe\">\n",
       "  <thead>\n",
       "    <tr style=\"text-align: right;\">\n",
       "      <th></th>\n",
       "      <th>long_name</th>\n",
       "      <th>age</th>\n",
       "      <th>dob</th>\n",
       "      <th>height_cm</th>\n",
       "      <th>weight_kg</th>\n",
       "      <th>nationality</th>\n",
       "      <th>club</th>\n",
       "    </tr>\n",
       "    <tr>\n",
       "      <th>short_name</th>\n",
       "      <th></th>\n",
       "      <th></th>\n",
       "      <th></th>\n",
       "      <th></th>\n",
       "      <th></th>\n",
       "      <th></th>\n",
       "      <th></th>\n",
       "    </tr>\n",
       "  </thead>\n",
       "  <tbody>\n",
       "    <tr>\n",
       "      <th>L. Messi</th>\n",
       "      <td>Lionel Andrés Messi Cuccittini</td>\n",
       "      <td>32</td>\n",
       "      <td>1987-06-24</td>\n",
       "      <td>170</td>\n",
       "      <td>72</td>\n",
       "      <td>Argentina</td>\n",
       "      <td>FC Barcelona</td>\n",
       "    </tr>\n",
       "    <tr>\n",
       "      <th>Cristiano Ronaldo</th>\n",
       "      <td>Cristiano Ronaldo dos Santos Aveiro</td>\n",
       "      <td>34</td>\n",
       "      <td>1985-02-05</td>\n",
       "      <td>187</td>\n",
       "      <td>83</td>\n",
       "      <td>Portugal</td>\n",
       "      <td>Juventus</td>\n",
       "    </tr>\n",
       "    <tr>\n",
       "      <th>Neymar Jr</th>\n",
       "      <td>Neymar da Silva Santos Junior</td>\n",
       "      <td>27</td>\n",
       "      <td>1992-02-05</td>\n",
       "      <td>175</td>\n",
       "      <td>68</td>\n",
       "      <td>Brazil</td>\n",
       "      <td>Paris Saint-Germain</td>\n",
       "    </tr>\n",
       "    <tr>\n",
       "      <th>J. Oblak</th>\n",
       "      <td>Jan Oblak</td>\n",
       "      <td>26</td>\n",
       "      <td>1993-01-07</td>\n",
       "      <td>188</td>\n",
       "      <td>87</td>\n",
       "      <td>Slovenia</td>\n",
       "      <td>Atlético Madrid</td>\n",
       "    </tr>\n",
       "    <tr>\n",
       "      <th>E. Hazard</th>\n",
       "      <td>Eden Hazard</td>\n",
       "      <td>28</td>\n",
       "      <td>1991-01-07</td>\n",
       "      <td>175</td>\n",
       "      <td>74</td>\n",
       "      <td>Belgium</td>\n",
       "      <td>Real Madrid</td>\n",
       "    </tr>\n",
       "  </tbody>\n",
       "</table>\n",
       "</div>"
      ],
      "text/plain": [
       "                                             long_name  age         dob  \\\n",
       "short_name                                                                \n",
       "L. Messi                Lionel Andrés Messi Cuccittini   32  1987-06-24   \n",
       "Cristiano Ronaldo  Cristiano Ronaldo dos Santos Aveiro   34  1985-02-05   \n",
       "Neymar Jr                Neymar da Silva Santos Junior   27  1992-02-05   \n",
       "J. Oblak                                     Jan Oblak   26  1993-01-07   \n",
       "E. Hazard                                  Eden Hazard   28  1991-01-07   \n",
       "\n",
       "                   height_cm  weight_kg nationality                 club  \n",
       "short_name                                                                \n",
       "L. Messi                 170         72   Argentina         FC Barcelona  \n",
       "Cristiano Ronaldo        187         83    Portugal             Juventus  \n",
       "Neymar Jr                175         68      Brazil  Paris Saint-Germain  \n",
       "J. Oblak                 188         87    Slovenia      Atlético Madrid  \n",
       "E. Hazard                175         74     Belgium          Real Madrid  "
      ]
     },
     "execution_count": 3,
     "metadata": {},
     "output_type": "execute_result"
    }
   ],
   "source": [
    "df.head(5)"
   ]
  },
  {
   "cell_type": "markdown",
   "id": "7986703c-3dea-4df3-a3c4-05a9aff7d2ad",
   "metadata": {},
   "source": [
    "## create function "
   ]
  },
  {
   "cell_type": "code",
   "execution_count": 4,
   "id": "dbf15ce6-2d83-45e0-9c90-7752bcdd6de7",
   "metadata": {},
   "outputs": [],
   "source": [
    "def sum_value(a,b):\n",
    "    x=a+b;\n",
    "    return x"
   ]
  },
  {
   "cell_type": "code",
   "execution_count": 5,
   "id": "27703cfb-e3bd-493e-aa50-16064c8aeb08",
   "metadata": {},
   "outputs": [
    {
     "data": {
      "text/plain": [
       "8"
      ]
     },
     "execution_count": 5,
     "metadata": {},
     "output_type": "execute_result"
    }
   ],
   "source": [
    "sum_value(3,5)"
   ]
  },
  {
   "cell_type": "markdown",
   "id": "eccdb7d2-f8cd-44ab-9613-9c262e63f8d1",
   "metadata": {},
   "source": [
    "## same thing with lamda function in one line"
   ]
  },
  {
   "cell_type": "code",
   "execution_count": 6,
   "id": "74001a76-7390-48f7-a6bd-e9fec2bc153a",
   "metadata": {},
   "outputs": [],
   "source": [
    "sum_lambda=lambda a,b : a+b"
   ]
  },
  {
   "cell_type": "code",
   "execution_count": 7,
   "id": "cf6c4baf-e096-4bbd-afc9-dcfa87736462",
   "metadata": {},
   "outputs": [
    {
     "data": {
      "text/plain": [
       "10"
      ]
     },
     "execution_count": 7,
     "metadata": {},
     "output_type": "execute_result"
    }
   ],
   "source": [
    "sum_lambda(5,5)"
   ]
  },
  {
   "cell_type": "code",
   "execution_count": 8,
   "id": "56b90f29-c521-49c9-ad18-7a16699eec66",
   "metadata": {},
   "outputs": [],
   "source": [
    "metter=lambda x:x/100"
   ]
  },
  {
   "cell_type": "code",
   "execution_count": 9,
   "id": "b7f4590e-5feb-4c9f-be12-a47e5c3b629c",
   "metadata": {},
   "outputs": [
    {
     "data": {
      "text/plain": [
       "2.0"
      ]
     },
     "execution_count": 9,
     "metadata": {},
     "output_type": "execute_result"
    }
   ],
   "source": [
    "metter(200)"
   ]
  },
  {
   "cell_type": "code",
   "execution_count": 10,
   "id": "4593b369-e94b-4183-be29-d50e326d7917",
   "metadata": {},
   "outputs": [
    {
     "data": {
      "text/plain": [
       "short_name\n",
       "L. Messi             1.70\n",
       "Cristiano Ronaldo    1.87\n",
       "Neymar Jr            1.75\n",
       "J. Oblak             1.88\n",
       "E. Hazard            1.75\n",
       "                     ... \n",
       "Shao Shuai           1.86\n",
       "Xiao Mingjie         1.77\n",
       "Zhang Wei            1.86\n",
       "Wang Haijian         1.85\n",
       "Pan Ximing           1.82\n",
       "Name: height_cm, Length: 18278, dtype: float64"
      ]
     },
     "execution_count": 10,
     "metadata": {},
     "output_type": "execute_result"
    }
   ],
   "source": [
    "## convert the height  into mitter\n",
    "df['height_cm'].apply(lambda x:x/100)"
   ]
  },
  {
   "cell_type": "code",
   "execution_count": 11,
   "id": "ac7228a8-ed72-42df-868c-95fc1e042c20",
   "metadata": {},
   "outputs": [
    {
     "data": {
      "text/plain": [
       "short_name\n",
       "L. Messi                  LIONEL ANDRÉS MESSI CUCCITTINI\n",
       "Cristiano Ronaldo    CRISTIANO RONALDO DOS SANTOS AVEIRO\n",
       "Neymar Jr                  NEYMAR DA SILVA SANTOS JUNIOR\n",
       "J. Oblak                                       JAN OBLAK\n",
       "E. Hazard                                    EDEN HAZARD\n",
       "                                    ...                 \n",
       "Shao Shuai                                            邵帅\n",
       "Xiao Mingjie                                MINGJIE XIAO\n",
       "Zhang Wei                                             张威\n",
       "Wang Haijian                                         汪海健\n",
       "Pan Ximing                                           潘喜明\n",
       "Name: long_name, Length: 18278, dtype: object"
      ]
     },
     "execution_count": 11,
     "metadata": {},
     "output_type": "execute_result"
    }
   ],
   "source": [
    "## convert \"long_name\" series to upper case\n",
    "df['long_name'].apply(lambda x:x.upper())\n",
    "# df['long_name'].str.upper()"
   ]
  },
  {
   "cell_type": "code",
   "execution_count": 15,
   "id": "f36efde3-0313-44d2-8424-cc31f4e321c4",
   "metadata": {},
   "outputs": [
    {
     "data": {
      "text/plain": [
       "short_name\n",
       "L. Messi             1987\n",
       "Cristiano Ronaldo    1985\n",
       "Neymar Jr            1992\n",
       "J. Oblak             1993\n",
       "E. Hazard            1991\n",
       "                     ... \n",
       "Shao Shuai           1997\n",
       "Xiao Mingjie         1997\n",
       "Zhang Wei            2000\n",
       "Wang Haijian         2000\n",
       "Pan Ximing           1993\n",
       "Name: dob, Length: 18278, dtype: int64"
      ]
     },
     "execution_count": 15,
     "metadata": {},
     "output_type": "execute_result"
    }
   ],
   "source": [
    "df['dob']=df['dob'].astype('datetime64[ns]')\n",
    "df['dob'].apply(lambda x:x.year)"
   ]
  },
  {
   "cell_type": "code",
   "execution_count": 16,
   "id": "cdd469d7-d42c-4273-997f-155bab6d23b5",
   "metadata": {},
   "outputs": [
    {
     "data": {
      "text/plain": [
       "short_name\n",
       "L. Messi             24.913495\n",
       "Cristiano Ronaldo    23.735308\n",
       "Neymar Jr            22.204082\n",
       "J. Oblak             24.615211\n",
       "E. Hazard            24.163265\n",
       "                       ...    \n",
       "Shao Shuai           22.835010\n",
       "Xiao Mingjie         21.066743\n",
       "Zhang Wei            21.678807\n",
       "Wang Haijian         21.621622\n",
       "Pan Ximing           23.547881\n",
       "Length: 18278, dtype: float64"
      ]
     },
     "execution_count": 16,
     "metadata": {},
     "output_type": "execute_result"
    }
   ],
   "source": [
    "#function to dataframe in order to calculate bmi\n",
    "df.apply(lambda x:x['weight_kg']/(( x['height_cm']/100)**2), axis=1)"
   ]
  },
  {
   "cell_type": "code",
   "execution_count": null,
   "id": "17bdef42-d36b-456d-8979-96811766a0a4",
   "metadata": {},
   "outputs": [],
   "source": []
  }
 ],
 "metadata": {
  "kernelspec": {
   "display_name": "Python [conda env:base] *",
   "language": "python",
   "name": "conda-base-py"
  },
  "language_info": {
   "codemirror_mode": {
    "name": "ipython",
    "version": 3
   },
   "file_extension": ".py",
   "mimetype": "text/x-python",
   "name": "python",
   "nbconvert_exporter": "python",
   "pygments_lexer": "ipython3",
   "version": "3.13.5"
  }
 },
 "nbformat": 4,
 "nbformat_minor": 5
}
