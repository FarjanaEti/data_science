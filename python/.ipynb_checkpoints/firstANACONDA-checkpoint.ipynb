{
 "cells": [
  {
   "cell_type": "markdown",
   "id": "66652daa-3087-4a31-91d0-391e8f040e46",
   "metadata": {},
   "source": [
    "1234567"
   ]
  },
  {
   "cell_type": "markdown",
   "id": "5fd9bb2d-bf74-4efe-9d6b-b92a81670afe",
   "metadata": {},
   "source": [
    "# Title"
   ]
  },
  {
   "cell_type": "markdown",
   "id": "f30b5a4c-541c-433e-ba59-6635399ac145",
   "metadata": {},
   "source": [
    "## subtitle"
   ]
  },
  {
   "cell_type": "markdown",
   "id": "279bb36a-672c-4f45-baab-7cc8fcaf7136",
   "metadata": {},
   "source": [
    "hi"
   ]
  },
  {
   "cell_type": "code",
   "execution_count": 2,
   "id": "8039679c-588a-4c3f-aa4e-7c150cd8b2ba",
   "metadata": {},
   "outputs": [
    {
     "data": {
      "text/plain": [
       "'hi'"
      ]
     },
     "execution_count": 2,
     "metadata": {},
     "output_type": "execute_result"
    }
   ],
   "source": [
    "\"hi\""
   ]
  },
  {
   "cell_type": "code",
   "execution_count": null,
   "id": "96b23f27-39f0-4b44-b641-9685e7cac51e",
   "metadata": {},
   "outputs": [],
   "source": []
  }
 ],
 "metadata": {
  "kernelspec": {
   "display_name": "Python [conda env:base] *",
   "language": "python",
   "name": "conda-base-py"
  },
  "language_info": {
   "codemirror_mode": {
    "name": "ipython",
    "version": 3
   },
   "file_extension": ".py",
   "mimetype": "text/x-python",
   "name": "python",
   "nbconvert_exporter": "python",
   "pygments_lexer": "ipython3",
   "version": "3.13.5"
  }
 },
 "nbformat": 4,
 "nbformat_minor": 5
}
