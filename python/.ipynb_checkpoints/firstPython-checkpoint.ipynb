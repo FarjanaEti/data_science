{
 "cells": [
  {
   "cell_type": "markdown",
   "id": "095823ba-765b-49ab-9aa6-6b8f732b5ee9",
   "metadata": {},
   "source": [
    "# Helloworld"
   ]
  },
  {
   "cell_type": "code",
   "execution_count": 1,
   "id": "0f24845b-a2b6-4e01-a379-6e477c19d95c",
   "metadata": {},
   "outputs": [
    {
     "name": "stdout",
     "output_type": "stream",
     "text": [
      "hello world\n"
     ]
    }
   ],
   "source": [
    "print(\"hello world\")"
   ]
  },
  {
   "cell_type": "markdown",
   "id": "4ac78ed2-ab5b-4bab-ad13-4ac46435d312",
   "metadata": {},
   "source": [
    "### can execute without print"
   ]
  },
  {
   "cell_type": "code",
   "execution_count": 2,
   "id": "6e229cfb-ecbb-46ea-82ca-4043d172f9cc",
   "metadata": {},
   "outputs": [
    {
     "data": {
      "text/plain": [
       "'hello world'"
      ]
     },
     "execution_count": 2,
     "metadata": {},
     "output_type": "execute_result"
    }
   ],
   "source": [
    "\"hello world\""
   ]
  },
  {
   "cell_type": "code",
   "execution_count": 4,
   "id": "322b99c7-46d8-4fc9-b349-ffe64e1509ae",
   "metadata": {},
   "outputs": [
    {
     "name": "stdout",
     "output_type": "stream",
     "text": [
      "22\n"
     ]
    }
   ],
   "source": [
    "# this is a comment\n",
    "print(22)"
   ]
  },
  {
   "cell_type": "markdown",
   "id": "93f48e40-ac6a-4c2b-92b1-92184a76d810",
   "metadata": {},
   "source": [
    "### Data type"
   ]
  },
  {
   "cell_type": "code",
   "execution_count": 5,
   "id": "257bbd44-9fca-4031-b559-c71338c0d7a6",
   "metadata": {},
   "outputs": [
    {
     "data": {
      "text/plain": [
       "int"
      ]
     },
     "execution_count": 5,
     "metadata": {},
     "output_type": "execute_result"
    }
   ],
   "source": [
    "type(23)"
   ]
  },
  {
   "cell_type": "code",
   "execution_count": 6,
   "id": "fde4337a-f18f-409b-a4ec-e292bc67e2a1",
   "metadata": {},
   "outputs": [
    {
     "data": {
      "text/plain": [
       "str"
      ]
     },
     "execution_count": 6,
     "metadata": {},
     "output_type": "execute_result"
    }
   ],
   "source": [
    "type(\"eti\")"
   ]
  },
  {
   "cell_type": "code",
   "execution_count": 8,
   "id": "9274cea6-c7a2-4735-aa68-d1bb480a3578",
   "metadata": {},
   "outputs": [
    {
     "data": {
      "text/plain": [
       "bool"
      ]
     },
     "execution_count": 8,
     "metadata": {},
     "output_type": "execute_result"
    }
   ],
   "source": [
    "type(True)"
   ]
  },
  {
   "cell_type": "code",
   "execution_count": 11,
   "id": "79f1c89b-a8c4-4f8a-90d3-131941199197",
   "metadata": {},
   "outputs": [
    {
     "data": {
      "text/plain": [
       "float"
      ]
     },
     "execution_count": 11,
     "metadata": {},
     "output_type": "execute_result"
    }
   ],
   "source": [
    "type(2.4)"
   ]
  },
  {
   "cell_type": "code",
   "execution_count": 9,
   "id": "4f927fc0-5645-494b-98c3-e00ff39f4e48",
   "metadata": {},
   "outputs": [
    {
     "data": {
      "text/plain": [
       "3"
      ]
     },
     "execution_count": 9,
     "metadata": {},
     "output_type": "execute_result"
    }
   ],
   "source": [
    "1+2"
   ]
  },
  {
   "cell_type": "code",
   "execution_count": 10,
   "id": "01d2a56d-7d1c-4313-a0f1-722156d04266",
   "metadata": {},
   "outputs": [
    {
     "data": {
      "text/plain": [
       "3"
      ]
     },
     "execution_count": 10,
     "metadata": {},
     "output_type": "execute_result"
    }
   ],
   "source": [
    "5-2"
   ]
  },
  {
   "cell_type": "markdown",
   "id": "db28dd00-fd2f-490c-b60a-38d4f9d929e3",
   "metadata": {},
   "source": [
    "#### Method"
   ]
  },
  {
   "cell_type": "code",
   "execution_count": 13,
   "id": "15481cd9-7d1a-4746-bcb0-f88498bd548d",
   "metadata": {},
   "outputs": [
    {
     "data": {
      "text/plain": [
       "'HELLO WORLD'"
      ]
     },
     "execution_count": 13,
     "metadata": {},
     "output_type": "execute_result"
    }
   ],
   "source": [
    "\"hello world\".upper()"
   ]
  },
  {
   "cell_type": "code",
   "execution_count": 3,
   "id": "b1f68982-d15b-43a6-88af-aee0447e028f",
   "metadata": {},
   "outputs": [
    {
     "name": "stdout",
     "output_type": "stream",
     "text": [
      "HELLO WORLD\n",
      "hello world\n",
      "Hello World\n"
     ]
    }
   ],
   "source": [
    "print(\"hello world\".upper())\n",
    "print(\"Hello World\".lower())\n",
    "print(\"hello world\".title())"
   ]
  },
  {
   "cell_type": "code",
   "execution_count": 9,
   "id": "57b79871-b84a-4122-a428-808f6caac519",
   "metadata": {},
   "outputs": [
    {
     "name": "stdout",
     "output_type": "stream",
     "text": [
      "2\n",
      "helle werld\n"
     ]
    }
   ],
   "source": [
    "print(\"hello world\".count(\"o\"))\n",
    "print(\"hello world\".replace('o','e'))"
   ]
  },
  {
   "cell_type": "markdown",
   "id": "96fa76cd-29de-4ff5-ba1b-3aa5de40e7f2",
   "metadata": {},
   "source": [
    "# Variable"
   ]
  },
  {
   "cell_type": "code",
   "execution_count": 16,
   "id": "24fc6ce2-fb90-4c8f-98fc-6ecd7768edea",
   "metadata": {},
   "outputs": [],
   "source": [
    "message_1 = \"I'm learning Java\""
   ]
  },
  {
   "cell_type": "code",
   "execution_count": 17,
   "id": "d15bb89b-78a5-4ffb-ab83-65e3d71cfce5",
   "metadata": {},
   "outputs": [
    {
     "data": {
      "text/plain": [
       "\"I'm learning Java\""
      ]
     },
     "execution_count": 17,
     "metadata": {},
     "output_type": "execute_result"
    }
   ],
   "source": [
    "message_1"
   ]
  },
  {
   "cell_type": "code",
   "execution_count": 20,
   "id": "fb026719-2633-4c56-8cfd-aa61088e5dcb",
   "metadata": {},
   "outputs": [],
   "source": [
    "message_2 = \"and it's fun\""
   ]
  },
  {
   "cell_type": "markdown",
   "id": "ccb88925-058d-45a1-a9d0-a79956036e7c",
   "metadata": {},
   "source": [
    "##### concat\n"
   ]
  },
  {
   "cell_type": "code",
   "execution_count": 22,
   "id": "8728bf58-ec6e-4604-a928-1ac3aaaac533",
   "metadata": {},
   "outputs": [
    {
     "data": {
      "text/plain": [
       "\"I'm learning Java and it's fun\""
      ]
     },
     "execution_count": 22,
     "metadata": {},
     "output_type": "execute_result"
    }
   ],
   "source": [
    "message_1 + ' ' + message_2"
   ]
  },
  {
   "cell_type": "code",
   "execution_count": 24,
   "id": "e082218b-a8a6-4297-8bb8-ddc2289ee96f",
   "metadata": {},
   "outputs": [
    {
     "data": {
      "text/plain": [
       "\" I'm learning Java and it's fun\""
      ]
     },
     "execution_count": 24,
     "metadata": {},
     "output_type": "execute_result"
    }
   ],
   "source": [
    "message = f' {message_1} {message_2}'\n",
    "message"
   ]
  },
  {
   "cell_type": "markdown",
   "id": "f75c7ea9-30aa-411c-891f-744fc5bebd29",
   "metadata": {},
   "source": [
    "#### List"
   ]
  },
  {
   "cell_type": "code",
   "execution_count": 27,
   "id": "22b8e004-cb16-479a-bca6-7a5af7729525",
   "metadata": {},
   "outputs": [],
   "source": [
    "#you have to run it for farther use\n",
    "countries = ['United States', 'India', 'China', 'Brazil']"
   ]
  },
  {
   "cell_type": "code",
   "execution_count": 30,
   "id": "ed23e391-663a-4530-98a5-2a41ede818d4",
   "metadata": {},
   "outputs": [
    {
     "name": "stdout",
     "output_type": "stream",
     "text": [
      "United States\n",
      "Brazil\n",
      "China\n"
     ]
    }
   ],
   "source": [
    "print(countries[0])\n",
    "print(countries[-1])\n",
    "print(countries[-2])"
   ]
  },
  {
   "cell_type": "markdown",
   "id": "6ae46462-d2e4-4988-993c-c93932528b5f",
   "metadata": {},
   "source": [
    "##### slice"
   ]
  },
  {
   "cell_type": "code",
   "execution_count": 33,
   "id": "3a54eb50-7942-446e-b4e4-79184b24977d",
   "metadata": {},
   "outputs": [
    {
     "name": "stdout",
     "output_type": "stream",
     "text": [
      "['United States', 'India', 'China']\n",
      "['United States', 'India']\n",
      "['India', 'China', 'Brazil']\n"
     ]
    }
   ],
   "source": [
    "print(countries[0:3])\n",
    "print(countries[:2])\n",
    "print(countries[1:])"
   ]
  },
  {
   "cell_type": "code",
   "execution_count": 34,
   "id": "b4fdc5cb-b31b-43da-a5c1-5513e6018cee",
   "metadata": {},
   "outputs": [
    {
     "data": {
      "text/plain": [
       "['United States', 'India', 'China', 'Brazil', 'argentina']"
      ]
     },
     "execution_count": 34,
     "metadata": {},
     "output_type": "execute_result"
    }
   ],
   "source": [
    "countries.append('argentina')\n",
    "countries"
   ]
  },
  {
   "cell_type": "code",
   "execution_count": 45,
   "id": "c10039e3-fd87-4956-81e4-3c34b7e18c8d",
   "metadata": {},
   "outputs": [
    {
     "data": {
      "text/plain": [
       "['canada', 'canada', 'United States', 'China', 'argentina']"
      ]
     },
     "execution_count": 45,
     "metadata": {},
     "output_type": "execute_result"
    }
   ],
   "source": [
    "countries.insert(0, 'canada')\n",
    "countries"
   ]
  },
  {
   "cell_type": "code",
   "execution_count": 37,
   "id": "6751e2fb-48f0-4f05-a89b-d8df8e5e785e",
   "metadata": {},
   "outputs": [],
   "source": [
    "countries_2 = ['UK', 'Germany', 'Austria']"
   ]
  },
  {
   "cell_type": "code",
   "execution_count": 38,
   "id": "54b4a5d3-1862-4a9f-ae7c-d2e4c5de5100",
   "metadata": {},
   "outputs": [
    {
     "data": {
      "text/plain": [
       "['canada',\n",
       " 'United States',\n",
       " 'India',\n",
       " 'China',\n",
       " 'Brazil',\n",
       " 'argentina',\n",
       " 'UK',\n",
       " 'Germany',\n",
       " 'Austria']"
      ]
     },
     "execution_count": 38,
     "metadata": {},
     "output_type": "execute_result"
    }
   ],
   "source": [
    "countries + countries_2"
   ]
  },
  {
   "cell_type": "code",
   "execution_count": 39,
   "id": "a4251d02-7f3e-4e80-8619-bc363171b521",
   "metadata": {},
   "outputs": [
    {
     "data": {
      "text/plain": [
       "[['canada', 'United States', 'India', 'China', 'Brazil', 'argentina'],\n",
       " ['UK', 'Germany', 'Austria']]"
      ]
     },
     "execution_count": 39,
     "metadata": {},
     "output_type": "execute_result"
    }
   ],
   "source": [
    "nested_list = [countries, countries_2]\n",
    "nested_list"
   ]
  },
  {
   "cell_type": "markdown",
   "id": "ae4a22af-1e44-4b20-a158-5af299f684fa",
   "metadata": {},
   "source": [
    "#### Delete"
   ]
  },
  {
   "cell_type": "code",
   "execution_count": 47,
   "id": "7a6b0c60-f282-43e8-9801-98635310256b",
   "metadata": {},
   "outputs": [
    {
     "data": {
      "text/plain": [
       "['canada', 'United States', 'China', 'argentina']"
      ]
     },
     "execution_count": 47,
     "metadata": {},
     "output_type": "execute_result"
    }
   ],
   "source": [
    "countries.remove('canada')\n",
    "countries"
   ]
  },
  {
   "cell_type": "code",
   "execution_count": 48,
   "id": "b1493212-9f6e-4b46-adfc-db06413a9065",
   "metadata": {},
   "outputs": [
    {
     "data": {
      "text/plain": [
       "['United States', 'China', 'argentina']"
      ]
     },
     "execution_count": 48,
     "metadata": {},
     "output_type": "execute_result"
    }
   ],
   "source": [
    "countries.pop(0)\n",
    "countries"
   ]
  },
  {
   "cell_type": "code",
   "execution_count": 49,
   "id": "ca47f764-5b29-46ea-898d-b7f1f55d5798",
   "metadata": {},
   "outputs": [
    {
     "data": {
      "text/plain": [
       "['China', 'argentina']"
      ]
     },
     "execution_count": 49,
     "metadata": {},
     "output_type": "execute_result"
    }
   ],
   "source": [
    "del countries[0]\n",
    "countries"
   ]
  },
  {
   "cell_type": "markdown",
   "id": "9fa7e55b-371d-478e-aea2-0b4f1ccccc0b",
   "metadata": {},
   "source": [
    "#### sorting"
   ]
  },
  {
   "cell_type": "code",
   "execution_count": 50,
   "id": "282c8926-8795-4e71-a5c2-45ffedeac4b2",
   "metadata": {},
   "outputs": [
    {
     "data": {
      "text/plain": [
       "[1, 2, 3, 4, 7, 10]"
      ]
     },
     "execution_count": 50,
     "metadata": {},
     "output_type": "execute_result"
    }
   ],
   "source": [
    "numbers = [4, 3, 10, 7, 1, 2]\n",
    "numbers.sort()\n",
    "numbers"
   ]
  },
  {
   "cell_type": "code",
   "execution_count": 51,
   "id": "e3cf1df3-d15d-4f33-9b4a-0eda2eacf958",
   "metadata": {},
   "outputs": [
    {
     "data": {
      "text/plain": [
       "[10, 8, 7, 3, 2, 1]"
      ]
     },
     "execution_count": 51,
     "metadata": {},
     "output_type": "execute_result"
    }
   ],
   "source": [
    "numbers = [7, 3, 10, 8, 1, 2]\n",
    "numbers.sort(reverse=True)\n",
    "numbers"
   ]
  },
  {
   "cell_type": "markdown",
   "id": "02aed3d4-aec5-4055-81a0-3eb9fd21e544",
   "metadata": {},
   "source": [
    "#### Copy"
   ]
  },
  {
   "cell_type": "code",
   "execution_count": 52,
   "id": "810c2bb6-a30b-4c14-b600-1cfb4bc34ef0",
   "metadata": {},
   "outputs": [
    {
     "data": {
      "text/plain": [
       "['China', 'argentina']"
      ]
     },
     "execution_count": 52,
     "metadata": {},
     "output_type": "execute_result"
    }
   ],
   "source": [
    "copy_countries=countries[:]\n",
    "copy_countries"
   ]
  },
  {
   "cell_type": "code",
   "execution_count": 53,
   "id": "8c6bf651-4a43-4c7d-83ef-da3a69b3af61",
   "metadata": {},
   "outputs": [
    {
     "data": {
      "text/plain": [
       "['China', 'argentina']"
      ]
     },
     "execution_count": 53,
     "metadata": {},
     "output_type": "execute_result"
    }
   ],
   "source": [
    "copy_countries_2=countries.copy()\n",
    "copy_countries_2"
   ]
  },
  {
   "cell_type": "code",
   "execution_count": 56,
   "id": "848a805a-7a1d-4ef0-9487-41f1ad5bc9fb",
   "metadata": {},
   "outputs": [
    {
     "data": {
      "text/plain": [
       "['China', 'argentina', 'canada', 'canada', 'canada']"
      ]
     },
     "execution_count": 56,
     "metadata": {},
     "output_type": "execute_result"
    }
   ],
   "source": [
    "countries.append(\"canada\")\n",
    "countries\n"
   ]
  },
  {
   "cell_type": "code",
   "execution_count": 57,
   "id": "996e2a41-378a-4cbe-a8b2-5a6a59330b57",
   "metadata": {},
   "outputs": [
    {
     "data": {
      "text/plain": [
       "['China', 'argentina']"
      ]
     },
     "execution_count": 57,
     "metadata": {},
     "output_type": "execute_result"
    }
   ],
   "source": [
    "copy_countries\n",
    "copy_countries_2"
   ]
  },
  {
   "cell_type": "markdown",
   "id": "19b38236-714b-4076-a490-9409fa56be61",
   "metadata": {},
   "source": [
    "## Dictionary"
   ]
  },
  {
   "cell_type": "code",
   "execution_count": 59,
   "id": "e4af0913-2a4e-435c-a6f6-11006759a789",
   "metadata": {},
   "outputs": [],
   "source": [
    "data = {'name':'Frank', 'age':26}"
   ]
  },
  {
   "cell_type": "code",
   "execution_count": 62,
   "id": "8023f7d9-460e-4193-8226-8d8471a1612e",
   "metadata": {},
   "outputs": [
    {
     "data": {
      "text/plain": [
       "'Frank'"
      ]
     },
     "execution_count": 62,
     "metadata": {},
     "output_type": "execute_result"
    }
   ],
   "source": [
    "data['name']"
   ]
  },
  {
   "cell_type": "code",
   "execution_count": 63,
   "id": "39cb472f-2e52-4cbd-9e1b-642faa899653",
   "metadata": {},
   "outputs": [
    {
     "data": {
      "text/plain": [
       "dict_keys(['name', 'age'])"
      ]
     },
     "execution_count": 63,
     "metadata": {},
     "output_type": "execute_result"
    }
   ],
   "source": [
    "data.keys()"
   ]
  },
  {
   "cell_type": "code",
   "execution_count": 64,
   "id": "8d0d023e-0a5b-4304-a2f3-c151aa22e424",
   "metadata": {},
   "outputs": [
    {
     "data": {
      "text/plain": [
       "dict_values(['Frank', 26])"
      ]
     },
     "execution_count": 64,
     "metadata": {},
     "output_type": "execute_result"
    }
   ],
   "source": [
    "data.values()"
   ]
  },
  {
   "cell_type": "code",
   "execution_count": 65,
   "id": "7f45bfd4-7167-4ef8-a357-7814285c5b72",
   "metadata": {},
   "outputs": [
    {
     "data": {
      "text/plain": [
       "dict_items([('name', 'Frank'), ('age', 26)])"
      ]
     },
     "execution_count": 65,
     "metadata": {},
     "output_type": "execute_result"
    }
   ],
   "source": [
    "data.items()"
   ]
  },
  {
   "cell_type": "markdown",
   "id": "62196fc3-0710-4426-8695-8840f069653e",
   "metadata": {},
   "source": [
    "### Add/Update dictionary"
   ]
  },
  {
   "cell_type": "code",
   "execution_count": 67,
   "id": "464b19de-ada0-42f6-b726-c5d5e3a91b3d",
   "metadata": {},
   "outputs": [
    {
     "data": {
      "text/plain": [
       "{'name': 'Frank', 'age': 26, 'height': 2.3}"
      ]
     },
     "execution_count": 67,
     "metadata": {},
     "output_type": "execute_result"
    }
   ],
   "source": [
    "data['height']=2.3\n",
    "data"
   ]
  },
  {
   "cell_type": "code",
   "execution_count": 70,
   "id": "36061904-879e-4a21-9563-8e7a3691c5a2",
   "metadata": {},
   "outputs": [
    {
     "data": {
      "text/plain": [
       "{'name': 'Frank',\n",
       " 'age': 26,\n",
       " 'height': 2.3,\n",
       " ' height': 1.8,\n",
       " 'language': ['bangla', 'english'],\n",
       " ' roll': 24}"
      ]
     },
     "execution_count": 70,
     "metadata": {},
     "output_type": "execute_result"
    }
   ],
   "source": [
    "data.update({' roll': 24 , 'language':['bangla','english']})\n",
    "data"
   ]
  },
  {
   "cell_type": "code",
   "execution_count": 71,
   "id": "0306b622-e425-4c2a-bf29-86c15e1f69ac",
   "metadata": {},
   "outputs": [
    {
     "data": {
      "text/plain": [
       "{'name': 'Frank',\n",
       " 'age': 26,\n",
       " ' height': 1.8,\n",
       " 'language': ['bangla', 'english'],\n",
       " ' roll': 24}"
      ]
     },
     "execution_count": 71,
     "metadata": {},
     "output_type": "execute_result"
    }
   ],
   "source": [
    "data.pop('height')\n",
    "data"
   ]
  },
  {
   "cell_type": "code",
   "execution_count": 73,
   "id": "e17e4881-024d-436f-9d50-39e391d4a4e4",
   "metadata": {},
   "outputs": [
    {
     "data": {
      "text/plain": [
       "{'name': 'Frank', 'age': 26, ' height': 1.8, 'language': ['bangla', 'english']}"
      ]
     },
     "execution_count": 73,
     "metadata": {},
     "output_type": "execute_result"
    }
   ],
   "source": [
    "del data[' roll']\n",
    "data"
   ]
  },
  {
   "cell_type": "code",
   "execution_count": null,
   "id": "0275ba08-849e-4a01-a058-f9defcb20a02",
   "metadata": {},
   "outputs": [],
   "source": [
    "data.clear()"
   ]
  },
  {
   "cell_type": "markdown",
   "id": "c8279ad9-ef61-4d6e-a85c-7feaa8df5b6f",
   "metadata": {},
   "source": [
    "### if statement"
   ]
  },
  {
   "cell_type": "code",
   "execution_count": 4,
   "id": "69289aa0-9253-4459-be82-f5c89b296045",
   "metadata": {},
   "outputs": [
    {
     "name": "stdout",
     "output_type": "stream",
     "text": [
      "You're an adult!\n"
     ]
    }
   ],
   "source": [
    "age = 18\n",
    "\n",
    "if age>=18:\n",
    "    print(\"You're an adult!\")\n",
    "elif age>=13:\n",
    "    print(\"You're a teenager!\")\n",
    "else:\n",
    "    print(\"You're a kid\")"
   ]
  },
  {
   "cell_type": "code",
   "execution_count": 6,
   "id": "6e9db9b0-ee9c-4799-9325-f4da57a6cd1a",
   "metadata": {},
   "outputs": [
    {
     "name": "stdout",
     "output_type": "stream",
     "text": [
      "country is in the list\n"
     ]
    }
   ],
   "source": [
    "countries = ['United States', 'India',\n",
    "             'China', 'Brazil']\n",
    "\n",
    "if 'India' in countries:\n",
    "    print(\"country is in the list\")\n",
    "\n",
    "else:\n",
    "    print(\"not in the list\")"
   ]
  },
  {
   "cell_type": "code",
   "execution_count": 8,
   "id": "5f919f05-ceab-4792-9cfa-5849d11579b3",
   "metadata": {},
   "outputs": [
    {
     "name": "stdout",
     "output_type": "stream",
     "text": [
      "United States\n",
      "India\n",
      "China\n",
      "Brazil\n"
     ]
    }
   ],
   "source": [
    "for country in countries:\n",
    "    print(country)"
   ]
  },
  {
   "cell_type": "code",
   "execution_count": 12,
   "id": "dfd4f234-3dca-4896-ac81-1157cdbd67a8",
   "metadata": {},
   "outputs": [
    {
     "name": "stdout",
     "output_type": "stream",
     "text": [
      "China\n"
     ]
    }
   ],
   "source": [
    "for country in countries:\n",
    "    if country == \"China\":\n",
    "        print(country)"
   ]
  },
  {
   "cell_type": "code",
   "execution_count": 14,
   "id": "bbc46143-60e0-469b-96b7-d0da93e6f4cb",
   "metadata": {},
   "outputs": [
    {
     "name": "stdout",
     "output_type": "stream",
     "text": [
      "0\n",
      "United States\n",
      "1\n",
      "India\n",
      "2\n",
      "China\n",
      "3\n",
      "Brazil\n"
     ]
    }
   ],
   "source": [
    "for i, country in enumerate(countries):\n",
    "    print(i)\n",
    "    print(country)"
   ]
  },
  {
   "cell_type": "markdown",
   "id": "69347b28-3d86-437c-86c4-1efda699693b",
   "metadata": {},
   "source": [
    "#### Function"
   ]
  },
  {
   "cell_type": "code",
   "execution_count": null,
   "id": "9f693ac4-8759-4a6a-8c3d-c3a9143d6fd7",
   "metadata": {},
   "outputs": [],
   "source": []
  },
  {
   "cell_type": "code",
   "execution_count": 16,
   "id": "3e853398-6f7c-46ca-8039-42144d4fbd77",
   "metadata": {},
   "outputs": [],
   "source": [
    "def sum_func(a,b):\n",
    "    x=a+b\n",
    "    return x"
   ]
  },
  {
   "cell_type": "code",
   "execution_count": 17,
   "id": "5c01506d-3e00-4216-9ca8-df39c89a5224",
   "metadata": {},
   "outputs": [
    {
     "data": {
      "text/plain": [
       "5"
      ]
     },
     "execution_count": 17,
     "metadata": {},
     "output_type": "execute_result"
    }
   ],
   "source": [
    "sum_func(2,3)"
   ]
  },
  {
   "cell_type": "code",
   "execution_count": 19,
   "id": "a0031c52-610d-4a92-9787-328b406939be",
   "metadata": {},
   "outputs": [
    {
     "name": "stdout",
     "output_type": "stream",
     "text": [
      "2\n",
      "7\n",
      "12\n",
      "17\n"
     ]
    }
   ],
   "source": [
    "for i in range(2,20,5):\n",
    "    print(i)"
   ]
  },
  {
   "cell_type": "markdown",
   "id": "85b722e2-fea9-47e7-9a40-23c82a79791b",
   "metadata": {},
   "source": [
    "# OS Module"
   ]
  },
  {
   "cell_type": "code",
   "execution_count": 22,
   "id": "214fb4ab-a954-4bc3-a97b-75e1444c272b",
   "metadata": {},
   "outputs": [],
   "source": [
    "import os"
   ]
  },
  {
   "cell_type": "code",
   "execution_count": 23,
   "id": "b5c2b544-7767-4571-b1a9-21533c5ad5c4",
   "metadata": {},
   "outputs": [
    {
     "data": {
      "text/plain": [
       "'C:\\\\Users\\\\hp\\\\Desktop\\\\Anaconda1\\\\python'"
      ]
     },
     "execution_count": 23,
     "metadata": {},
     "output_type": "execute_result"
    }
   ],
   "source": [
    "#cwd-->Current working directory\n",
    "os.getcwd()"
   ]
  },
  {
   "cell_type": "code",
   "execution_count": 24,
   "id": "234b07ff-6bdc-45a8-ab46-9aa35e1aee37",
   "metadata": {},
   "outputs": [
    {
     "data": {
      "text/plain": [
       "['.ipynb_checkpoints', 'firstPython.ipynb']"
      ]
     },
     "execution_count": 24,
     "metadata": {},
     "output_type": "execute_result"
    }
   ],
   "source": [
    "os.listdir()"
   ]
  },
  {
   "cell_type": "code",
   "execution_count": 25,
   "id": "6d568e88-b823-4e21-a5c8-c59d6e47e004",
   "metadata": {},
   "outputs": [],
   "source": [
    "os.makedirs(\"New folder\")"
   ]
  },
  {
   "cell_type": "code",
   "execution_count": 26,
   "id": "ab9e719f-d6e7-43d9-9b3e-b37b10e4d224",
   "metadata": {},
   "outputs": [
    {
     "data": {
      "text/plain": [
       "['.ipynb_checkpoints', 'firstPython.ipynb', 'New folder']"
      ]
     },
     "execution_count": 26,
     "metadata": {},
     "output_type": "execute_result"
    }
   ],
   "source": [
    "os.listdir()"
   ]
  }
 ],
 "metadata": {
  "kernelspec": {
   "display_name": "Python [conda env:base] *",
   "language": "python",
   "name": "conda-base-py"
  },
  "language_info": {
   "codemirror_mode": {
    "name": "ipython",
    "version": 3
   },
   "file_extension": ".py",
   "mimetype": "text/x-python",
   "name": "python",
   "nbconvert_exporter": "python",
   "pygments_lexer": "ipython3",
   "version": "3.13.5"
  }
 },
 "nbformat": 4,
 "nbformat_minor": 5
}
